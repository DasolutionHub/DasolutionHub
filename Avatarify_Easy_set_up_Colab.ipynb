{
  "nbformat": 4,
  "nbformat_minor": 0,
  "metadata": {
    "colab": {
      "provenance": [],
      "collapsed_sections": [
        "cleanup"
      ]
    },
    "kernelspec": {
      "name": "python3",
      "display_name": "Python 3"
    },
    "accelerator": "GPU"
  },
  "cells": [
    {
      "cell_type": "markdown",
      "metadata": {
        "id": "dynamic-avatarify-header"
      },
      "source": [
        "# 🎭 Avatarify with Auto-Refresh Ngrok\n",
        "\n",
        "**Never worry about disappearing tunnels again!**\n",
        "\n",
        "This enhanced version:\n",
        "1. Automatically refreshes ngrok tunnels every 60 minutes\n",
        "2. Maintains stable connections without manual intervention\n",
        "3. Provides real-time status updates\n",
        "4. Self-heals from disconnections\n",
        "\n",
        "Just run all cells sequentially and keep the notebook open during your session!"
      ]
    },
    {
      "cell_type": "markdown",
      "metadata": {
        "id": "install-dependencies"
      },
      "source": [
        "## 1. Install Dependencies"
      ]
    },
    {
      "cell_type": "code",
      "execution_count": null,
      "metadata": {
        "id": "clean-environment"
      },
      "outputs": [],
      "source": [
        "# Clean environment\n",
        "%cd /content\n",
        "!rm -rf avatarify\n",
        "\n",
        "# Clone Avatarify\n",
        "!git clone -q https://github.com/alievk/avatarify.git\n",
        "%cd avatarify\n",
        "\n",
        "# Install dependencies\n",
        "!git clone -q https://github.com/alievk/first-order-model.git fomm\n",
        "!pip install -q face-alignment==1.0.0 msgpack_numpy pyyaml==6.0.1 pyngrok\n",
        "!sudo apt-get -y install libgl1-mesa-glx > /dev/null\n",
        "\n",
        "# Download models\n",
        "!scripts/download_data.sh > /dev/null\n",
        "\n",
        "print(\"✅ Dependencies installed\")"
      ]
    },
    {
      "cell_type": "code",
      "source": [
        "# 👇 Patch face_alignment/utils.py directly\n",
        "!sed -i 's/t\\[0, 0\\] = resolution \\/ h/t[0, 0] = float(resolution \\/ h)/' /usr/local/lib/python*/dist-packages/face_alignment/utils.py\n",
        "!sed -i 's/t\\[1, 1\\] = resolution \\/ h/t[1, 1] = float(resolution \\/ h)/' /usr/local/lib/python*/dist-packages/face_alignment/utils.py\n"
      ],
      "metadata": {
        "id": "JfzqZS2RaHDl"
      },
      "execution_count": null,
      "outputs": []
    },
    {
      "cell_type": "code",
      "source": [
        "# Show patched lines in face_alignment/utils.py\n",
        "!sed -n '75,90p' /usr/local/lib/python*/dist-packages/face_alignment/utils.py\n"
      ],
      "metadata": {
        "id": "Fw2uNfBgafsZ"
      },
      "execution_count": null,
      "outputs": []
    },
    {
      "cell_type": "markdown",
      "metadata": {
        "id": "configure-ngrok"
      },
      "source": [
        "## 2. Configure Ngrok\n",
        "\n",
        "1. Get your ngrok authtoken from [https://dashboard.ngrok.com/auth](https://dashboard.ngrok.com/auth)\n",
        "2. Choose your region:"
      ]
    },
    {
      "cell_type": "code",
      "execution_count": null,
      "metadata": {
        "id": "set-ngrok-config",
        "cellView": "form"
      },
      "outputs": [],
      "source": [
        "#@title Enter Ngrok Configuration\n",
        "\n",
        "authtoken = \"\" #@param {type:\"string\"}\n",
        "region = \"us\" #@param [\"us\", \"eu\", \"ap\", \"au\", \"sa\", \"jp\", \"in\"]\n",
        "\n",
        "print(f\"✔ Ngrok configured: Region={region}\")"
      ]
    },
    {
      "cell_type": "markdown",
      "metadata": {
        "id": "auto-refresh-system"
      },
      "source": [
        "## 3. Auto-Refresh System Setup"
      ]
    },
    {
      "cell_type": "code",
      "execution_count": null,
      "metadata": {
        "id": "auto-refresh-core"
      },
      "outputs": [],
      "source": [
        "from pyngrok import ngrok, conf\n",
        "import threading\n",
        "import time\n",
        "from subprocess import Popen\n",
        "import shlex\n",
        "from IPython.display import clear_output\n",
        "\n",
        "# ===== CONFIGURATION =====\n",
        "TUNNEL_REFRESH_INTERVAL = 3600  # 60 minutes\n",
        "current_in_addr = \"\"\n",
        "current_out_addr = \"\"\n",
        "worker_process = None\n",
        "in_tunnel = None\n",
        "out_tunnel = None\n",
        "stop_event = threading.Event()\n",
        "\n",
        "# ===== CORE FUNCTIONS =====\n",
        "def create_tunnels():\n",
        "    global in_tunnel, out_tunnel, current_in_addr, current_out_addr\n",
        "\n",
        "    # Close existing tunnels\n",
        "    if in_tunnel:\n",
        "        try:\n",
        "            ngrok.disconnect(in_tunnel.public_url)\n",
        "            print(f\"🔒 Closed input tunnel\")\n",
        "        except Exception as e:\n",
        "            print(f\"⚠️ Error closing input tunnel: {str(e)}\")\n",
        "\n",
        "    if out_tunnel:\n",
        "        try:\n",
        "            ngrok.disconnect(out_tunnel.public_url)\n",
        "            print(f\"🔒 Closed output tunnel\")\n",
        "        except Exception as e:\n",
        "            print(f\"⚠️ Error closing output tunnel: {str(e)}\")\n",
        "\n",
        "    # Create new tunnels\n",
        "    print(\"🚇 Creating new tunnels...\")\n",
        "    in_tunnel = ngrok.connect(5557, \"tcp\", \"avatarify-input\")\n",
        "    out_tunnel = ngrok.connect(5558, \"tcp\", \"avatarify-output\")\n",
        "\n",
        "    current_in_addr = in_tunnel.public_url.replace(\"tcp://\", \"\")\n",
        "    current_out_addr = out_tunnel.public_url.replace(\"tcp://\", \"\")\n",
        "\n",
        "    print(f\"✅ NEW INPUT: {current_in_addr}\")\n",
        "    print(f\"✅ NEW OUTPUT: {current_out_addr}\")\n",
        "    return current_in_addr, current_out_addr\n",
        "\n",
        "def start_worker(in_addr, out_addr):\n",
        "    global worker_process\n",
        "\n",
        "    # Stop existing worker\n",
        "    if worker_process:\n",
        "        try:\n",
        "            worker_process.terminate()\n",
        "            worker_process.wait(timeout=5)\n",
        "            print(\"🔒 Stopped previous worker\")\n",
        "        except Exception as e:\n",
        "            print(f\"⚠️ Error stopping worker: {str(e)}\")\n",
        "            !pkill -f cam_fomm.py\n",
        "\n",
        "    # Start new worker\n",
        "    cmd = f'./run.sh --is-worker --in-addr tcp://{in_addr} --out-addr tcp://{out_addr} --no-vcam --no-conda'\n",
        "    print(f\"🚀 Starting worker: {cmd}\")\n",
        "\n",
        "    with open('/content/worker.log', 'w') as log_file:\n",
        "        worker_process = Popen(shlex.split(cmd), stdout=log_file, stderr=log_file)\n",
        "\n",
        "    # Wait for initialization\n",
        "    time.sleep(8)\n",
        "    print(\"✅ Worker started successfully\")\n",
        "    return cmd\n",
        "\n",
        "def tunnel_manager():\n",
        "    while not stop_event.is_set():\n",
        "        try:\n",
        "            in_addr, out_addr = create_tunnels()\n",
        "            worker_cmd = start_worker(in_addr, out_addr)\n",
        "            print(f\"\\n🔥 NEW CLIENT COMMAND:\\n./run_mac.sh --is-client --in-addr tcp://{in_addr} --out-addr tcp://{out_addr}\")\n",
        "\n",
        "            # Wait until next refresh or stop signal\n",
        "            for _ in range(TUNNEL_REFRESH_INTERVAL // 10):\n",
        "                if stop_event.is_set():\n",
        "                    return\n",
        "                time.sleep(10)\n",
        "\n",
        "        except Exception as e:\n",
        "            print(f\"⚠️ Tunnel manager error: {str(e)}\")\n",
        "            time.sleep(30)\n",
        "\n",
        "# ===== INITIAL SETUP =====\n",
        "print(\"🚀 Starting auto-refresh system...\")\n",
        "conf.get_default().auth_token = authtoken\n",
        "conf.get_default().region = region\n",
        "\n",
        "# Initial tunnel and worker setup\n",
        "in_addr, out_addr = create_tunnels()\n",
        "worker_cmd = start_worker(in_addr, out_addr)\n",
        "print(f\"\\n🔥 INITIAL CLIENT COMMAND:\\n./run_mac.sh --is-client --in-addr tcp://{in_addr} --out-addr tcp://{out_addr}\")\n",
        "\n",
        "# Start background refresh\n",
        "manager_thread = threading.Thread(target=tunnel_manager, daemon=True)\n",
        "manager_thread.start()\n",
        "\n",
        "print(\"\\n🔒 Tunnels will auto-refresh every 60 minutes\")\n",
        "print(\"💡 Keep this notebook running during your session\")\n",
        "print(\"ℹ️ Latest command always appears above this message\")"
      ]
    },
    {
      "cell_type": "markdown",
      "metadata": {
        "id": "current-command"
      },
      "source": [
        "## 4. Current Connection Command"
      ]
    },
    {
      "cell_type": "code",
      "execution_count": null,
      "metadata": {
        "id": "print-current-command"
      },
      "outputs": [],
      "source": [
        "from IPython.display import Markdown\n",
        "\n",
        "if current_in_addr and current_out_addr:\n",
        "    command = f\"./run_mac.sh --is-client --in-addr tcp://{current_in_addr} --out-addr tcp://{current_out_addr}\"\n",
        "    display(Markdown(f\"### ✅ Active Connection Command:\\n```\\n{command}\\n```\"))\n",
        "    print(\"Run this on your local machine\")\n",
        "else:\n",
        "    print(\"⚠️ No active tunnels found. Run section 3 first.\")"
      ]
    },
    {
      "cell_type": "markdown",
      "metadata": {
        "id": "monitoring"
      },
      "source": [
        "## 5. Real-time Monitoring"
      ]
    },
    {
      "cell_type": "code",
      "execution_count": null,
      "metadata": {
        "id": "live-monitoring",
        "cellView": "form"
      },
      "outputs": [],
      "source": [
        "#@title Live System Dashboard\n",
        "\n",
        "import time\n",
        "from datetime import datetime\n",
        "from IPython.display import display, clear_output, HTML\n",
        "\n",
        "print(\"🔄 Starting live dashboard - Press Stop when done\")\n",
        "\n",
        "try:\n",
        "    while True:\n",
        "        clear_output(wait=True)\n",
        "\n",
        "        # System status\n",
        "        display(HTML(f\"<h3>🕒 {datetime.now().strftime('%H:%M:%S')} | Auto-Refresh System</h3>\"))\n",
        "\n",
        "        # Tunnel status\n",
        "        if current_in_addr and current_out_addr:\n",
        "            display(HTML(f\"<p>🔌 <b>Input Tunnel:</b> {current_in_addr}</p>\"))\n",
        "            display(HTML(f\"<p>🔌 <b>Output Tunnel:</b> {current_out_addr}</p>\"))\n",
        "        else:\n",
        "            display(HTML(\"<p>⚠️ <b>No active tunnels</b></p>\"))\n",
        "\n",
        "        # Worker status\n",
        "        worker_running = False\n",
        "        if worker_process:\n",
        "            worker_running = worker_process.poll() is None\n",
        "\n",
        "        status = \"✅ Running\" if worker_running else \"❌ Stopped\"\n",
        "        display(HTML(f\"<p>🤖 <b>Worker Status:</b> {status}</p>\"))\n",
        "\n",
        "        # Latest logs\n",
        "        display(HTML(\"<h4>📜 Latest Worker Logs:</h4>\"))\n",
        "        !tail -n 8 /content/worker.log 2>/dev/null || echo \"No logs available\"\n",
        "\n",
        "        # Refresh reminder\n",
        "        display(HTML(\"<p>\\n🔁 Dashboard refreshes every 10 seconds</p>\"))\n",
        "        display(HTML(\"<p>🛑 Press the <b>Stop</b> button above to exit</p>\"))\n",
        "\n",
        "        time.sleep(10)\n",
        "except:\n",
        "    print(\"Dashboard stopped\")"
      ]
    },
    {
      "cell_type": "markdown",
      "metadata": {
        "id": "cleanup"
      },
      "source": [
        "## 6. Cleanup (Run When Finished)"
      ]
    },
    {
      "cell_type": "code",
      "execution_count": null,
      "metadata": {
        "id": "graceful-shutdown"
      },
      "outputs": [],
      "source": [
        "print(\"🛑 Stopping session...\")\n",
        "\n",
        "# Signal manager thread to stop\n",
        "if 'stop_event' in globals():\n",
        "    stop_event.set()\n",
        "    print(\"🔒 Stopping auto-refresh manager\")\n",
        "\n",
        "    # Wait for manager to exit\n",
        "    if 'manager_thread' in globals():\n",
        "        manager_thread.join(timeout=10)\n",
        "        print(\"✅ Manager thread stopped\")\n",
        "\n",
        "# Close tunnels\n",
        "try:\n",
        "    if 'in_tunnel' in globals() and in_tunnel:\n",
        "        ngrok.disconnect(in_tunnel.public_url)\n",
        "        print(\"🔒 Input tunnel closed\")\n",
        "    if 'out_tunnel' in globals() and out_tunnel:\n",
        "        ngrok.disconnect(out_tunnel.public_url)\n",
        "        print(\"🔒 Output tunnel closed\")\n",
        "except Exception as e:\n",
        "    print(f\"⚠️ Error closing tunnels: {str(e)}\")\n",
        "\n",
        "# Stop worker\n",
        "try:\n",
        "    if 'worker_process' in globals() and worker_process:\n",
        "        worker_process.terminate()\n",
        "        worker_process.wait(timeout=5)\n",
        "        print(\"🔒 Worker process stopped\")\n",
        "except Exception as e:\n",
        "    print(f\"⚠️ Error stopping worker: {str(e)}\")\n",
        "    !pkill -f cam_fomm.py\n",
        "\n",
        "print(\"✅ Session ended safely\")"
      ]
    }
  ]
}